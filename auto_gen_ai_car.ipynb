{
 "cells": [
  {
   "cell_type": "markdown",
   "metadata": {},
   "source": [
    "# AutoGenAI"
   ]
  },
  {
   "cell_type": "code",
   "execution_count": 3,
   "metadata": {},
   "outputs": [],
   "source": [
    "import openai\n",
    "import os\n",
    "import requests\n",
    "from PIL import Image\n",
    "from io import BytesIO"
   ]
  },
  {
   "cell_type": "code",
   "execution_count": null,
   "metadata": {},
   "outputs": [],
   "source": [
    "from dotenv import load_dotenv\n",
    "# Load environment variables from .env file\n",
    "load_dotenv()\n",
    "api_key = os.getenv('OPEN_AI_API_KEY_CAR')\n",
    "# print(api_key)\n",
    "\n",
    "openai.api_key = api_key\n"
   ]
  },
  {
   "cell_type": "code",
   "execution_count": 52,
   "metadata": {},
   "outputs": [],
   "source": [
    "# Function to generate an image based on user input\n",
    "def generate_car_image(user_input):\n",
    "    try:\n",
    "        # Create a detailed prompt for the image generation\n",
    "        # prompt = f\"A photorealistic, high-resolution image of the user's dream car: {user_input}. The car should have elegant curves, luxurious interiors visible through slightly open tinted windows, and custom alloy wheels with intricate designs. It is parked on a futuristic driveway with ambient lighting, surrounded by a lush garden and modern architecture in the background. The glossy metallic paint reflects the surroundings, emphasizing its sleek, aerodynamic body. Include subtle lens flares to enhance realism and add a personalized license plate with a glowing effect.\"\n",
    "        \n",
    "        \n",
    "        # prompt = f\"A photorealistic, high-resolution image of the user's dream car: {user_input}. Ensure the car has realistic proportions, detailed textures, and elegant design. The images should allow further refinements, such as changing the wheel color or seat materials, without altering the overall design. Focus on realism, avoiding unrealistic features or futuristic elements.\"\n",
    "        \n",
    "        # prompt = f\"A photorealistic, high-resolution image of the user's dream car: {user_input}. Ensure that only one car image. Ensure the car has realistic proportions, detailed textures. The windows should be glass transparent, showcasing the interior without any tint or coloring. displaying the car's exterior from a dynamic angle with natural reflections on its glossy paint, and capturing the interior with premium leather seats. Maintain realism and avoid futuristic elements or impractical designs. Enable refinements, such as changing the wheel color or seat materials, without altering the car's overall structure.\" \n",
    "        \n",
    "        # prompt = f\"A photorealistic, high-resolution image of the user's dream car: {user_input}. Ensure that only one car image. Ensure the car has realistic proportions, detailed textures. The windows should be glass transparent, displaying the car's exterior from a dynamic angle with natural reflections on its glossy paint, and capturing the interior with premium leather seats. Maintain realism and avoid futuristic elements or impractical designs. Enable refinements, such as changing the wheel color or seat materials, without altering the car's overall structure.\" \n",
    "        \n",
    "        # prompt = f\"A photorealistic, high-resolution image of the user's dream car: {user_input}. Ensure the car has realistic proportions, detailed textures, and elegant design. The car should have clear, non-colored windows, smooth metallic paint, and well-defined features such as headlights, grilles, and wheels. Focus on realism, avoiding unrealistic features or futuristic elements. The design should support refinements like changing the wheel color or seat materials without altering the overall structure.\"\n",
    "\n",
    "        \n",
    "        # prompt =f\"A highly detailed, photorealistic rendering of the user's dream car: {user_input}. The car should feature perfect proportions, smooth and flawless metallic paint, and intricate textures for the bodywork, wheels, and trim. Ensure the windows are clear with no reflections or tints, showcasing the vehicle's internal details without distortion. The headlights, grille, and wheels should be meticulously rendered with sharp, clean lines, and realistic reflections. The textures should be smooth and consistent, with no noise or artifacts, giving the image a polished, high-quality finish. The design should allow for easy modifications to elements like wheel color or seat materials while maintaining the car’s overall integrity and natural look. Focus on creating a lifelike, clean, and error-free image without futuristic or unrealistic design elements.\"\n",
    "        \n",
    "        # prompt =f\"A highly detailed, photorealistic rendering of the user's dream car: {user_input}. The car should have perfect proportions, with smooth, flawless metallic paint, and intricate textures for the bodywork, wheels, and trim. The car should feature clear, non-reflective windows that reveal the interior without distortion. The headlights, grille, and wheels must be meticulously designed with sharp, clean lines and realistic reflections. Ensure the textures are smooth, consistent, and free of noise or artifacts, giving the car a polished, high-quality appearance. The design should allow for easy modifications, such as adjusting wheel color or seat materials, while maintaining the car’s overall integrity. The image should be error-free, with realistic lighting and shadow effects, while focusing solely on the car against a fixed white background. Avoid any futuristic or unrealistic design elements.\"\n",
    "        \n",
    "        prompt =f\"A highly detailed, photorealistic rendering of the user's dream car: {user_input}. The car should have flawless proportions with smooth, flawless metallic paint and intricate textures for the bodywork, wheels, exhaust pipes, and trim. The wheels should have sharp, well-defined edges, with visible spokes and no blurring or distortion. The exhaust pipes should be clearly defined, with realistic metal textures and no blending or obscuring of detail. Ensure the windows are clear, with no reflections or tints, showcasing the vehicle's interior with precision. The headlights, grille, and other exterior features should be meticulously rendered with clean lines and lifelike reflections. The overall design should maintain realistic proportions and surface details, ensuring no part of the car is out of focus or exaggerated. Focus on a polished, high-quality finish, with smooth, consistent textures and no artifacts. The image should be error-free, with realistic lighting, shadows, and reflections, against a fixed white background. Avoid any futuristic or unrealistic elements in the design.\"\n",
    "\n",
    "        # Generate the image using OpenAI's DALL-E model\n",
    "        response = openai.Image.create(\n",
    "            model=\"dall-e-3\",\n",
    "            prompt=prompt,\n",
    "            n=1,  # Number of images to generate\n",
    "            size=\"1792x1024\"  # Image resolution\n",
    "        )\n",
    "\n",
    "        # Get the image URL from the response\n",
    "        image_url = response['data'][0]['url']\n",
    "\n",
    "        # Download and display the image\n",
    "        image_response = requests.get(image_url)\n",
    "        image = Image.open(BytesIO(image_response.content))\n",
    "        image.show()\n",
    "\n",
    "        # Optionally, save the image\n",
    "        image.save(\"cloud/cars/generated_car_image_7.png\")\n",
    "        print(\"Image saved as 'generated_car_image.png'\")\n",
    "\n",
    "    except Exception as e:\n",
    "        print(f\"Error generating image: {e}\")"
   ]
  },
  {
   "cell_type": "code",
   "execution_count": 53,
   "metadata": {},
   "outputs": [
    {
     "name": "stdout",
     "output_type": "stream",
     "text": [
      "Image saved as 'generated_car_image.png'\n"
     ]
    }
   ],
   "source": [
    "# User input for customization\n",
    "user_input = input(\"Enter car description (e.g., 'red sports', 'blue SUV'): \")\n",
    "generate_car_image(user_input)"
   ]
  },
  {
   "cell_type": "markdown",
   "metadata": {},
   "source": [
    "a blue car with yellow esthetics\n",
    "\n",
    "A sleek, silver car with black alloy wheels and sharp aerodynamic lines.\n",
    "\n",
    "good looking boys"
   ]
  }
 ],
 "metadata": {
  "kernelspec": {
   "display_name": "myenv",
   "language": "python",
   "name": "python3"
  },
  "language_info": {
   "codemirror_mode": {
    "name": "ipython",
    "version": 3
   },
   "file_extension": ".py",
   "mimetype": "text/x-python",
   "name": "python",
   "nbconvert_exporter": "python",
   "pygments_lexer": "ipython3",
   "version": "3.12.3"
  }
 },
 "nbformat": 4,
 "nbformat_minor": 2
}
