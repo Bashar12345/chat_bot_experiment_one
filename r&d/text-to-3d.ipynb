{
 "cells": [
  {
   "cell_type": "markdown",
   "metadata": {},
   "source": [
    "# Zhengyi/LLaMA-Mesh"
   ]
  },
  {
   "cell_type": "code",
   "execution_count": null,
   "metadata": {},
   "outputs": [],
   "source": []
  },
  {
   "cell_type": "code",
   "execution_count": 1,
   "metadata": {},
   "outputs": [
    {
     "name": "stderr",
     "output_type": "stream",
     "text": [
      "/home/vai/Desktop/chat_bot_experiment_one/myenv/lib/python3.12/site-packages/tqdm/auto.py:21: TqdmWarning: IProgress not found. Please update jupyter and ipywidgets. See https://ipywidgets.readthedocs.io/en/stable/user_install.html\n",
      "  from .autonotebook import tqdm as notebook_tqdm\n",
      "2024-12-30 15:39:17.485187: I tensorflow/core/util/port.cc:153] oneDNN custom operations are on. You may see slightly different numerical results due to floating-point round-off errors from different computation orders. To turn them off, set the environment variable `TF_ENABLE_ONEDNN_OPTS=0`.\n",
      "2024-12-30 15:39:17.623585: E external/local_xla/xla/stream_executor/cuda/cuda_fft.cc:477] Unable to register cuFFT factory: Attempting to register factory for plugin cuFFT when one has already been registered\n",
      "WARNING: All log messages before absl::InitializeLog() is called are written to STDERR\n",
      "E0000 00:00:1735551557.673242   50040 cuda_dnn.cc:8310] Unable to register cuDNN factory: Attempting to register factory for plugin cuDNN when one has already been registered\n",
      "E0000 00:00:1735551557.687080   50040 cuda_blas.cc:1418] Unable to register cuBLAS factory: Attempting to register factory for plugin cuBLAS when one has already been registered\n",
      "2024-12-30 15:39:17.801614: I tensorflow/core/platform/cpu_feature_guard.cc:210] This TensorFlow binary is optimized to use available CPU instructions in performance-critical operations.\n",
      "To enable the following instructions: AVX2 AVX_VNNI FMA, in other operations, rebuild TensorFlow with the appropriate compiler flags.\n"
     ]
    }
   ],
   "source": [
    "from transformers import AutoTokenizer, LlamaForCausalLM, AutoModelForCausalLM"
   ]
  },
  {
   "cell_type": "code",
   "execution_count": null,
   "metadata": {},
   "outputs": [],
   "source": [
    "import torch\n",
    "from transformers import AutoTokenizer, AutoModelForCausalLM\n",
    "\n",
    "# Load pre-trained model and tokenizer\n",
    "model_name = \"Zhengyi/LLaMA-Mesh\"\n",
    "tokenizer = AutoTokenizer.from_pretrained(model_name)\n",
    "model = AutoModelForCausalLM.from_pretrained(model_name)\n",
    "\n",
    "# Prompt for the LLM\n",
    "prompt = \"Hey, are you conscious? Can you talk to me?\"\n",
    "inputs = tokenizer(prompt, return_tensors=\"pt\")\n",
    "\n",
    "# Generate response from the model\n",
    "generate_ids = model.generate(inputs.input_ids, max_length=30)\n",
    "response = tokenizer.batch_decode(generate_ids, skip_special_tokens=True, clean_up_tokenization_spaces=False)[0]\n",
    "\n",
    "print(\"LLM Response:\", response)\n",
    "\n",
    "# Import additional libraries for 3D model generation\n",
    "import open3d as o3d\n",
    "import numpy as np\n",
    "from PIL import Image\n",
    "\n",
    "# Function to convert image to 3D point cloud\n",
    "def image_to_3d(image_path, output_path):\n",
    "    # Load image\n",
    "    image = Image.open(image_path)\n",
    "    image = image.convert('L')  # Convert to grayscale\n",
    "    gray = np.array(image)\n",
    "\n",
    "    # Generate a depth map (for simplicity, we'll simulate it)\n",
    "    depth = gray\n",
    "\n",
    "    # Generate 3D point cloud from depth map\n",
    "    h, w = depth.shape\n",
    "    fx, fy = 500, 500  # Focal lengths (assumed)\n",
    "    cx, cy = w // 2, h // 2  # Principal point\n",
    "\n",
    "    points = []\n",
    "    for v in range(h):\n",
    "        for u in range(w):\n",
    "            z = depth[v, u] / 255.0  # Normalize depth\n",
    "            x = (u - cx) * z / fx\n",
    "            y = (v - cy) * z / fy\n",
    "            points.append([x, y, z])\n",
    "\n",
    "    # Create point cloud\n",
    "    point_cloud = o3d.geometry.PointCloud()\n",
    "    point_cloud.points = o3d.utility.Vector3dVector(np.array(points))\n",
    "\n",
    "    # Save point cloud to a file\n",
    "    o3d.io.write_point_cloud(output_path, point_cloud)\n",
    "    return output_path\n",
    "\n",
    "# Example usage\n",
    "image_path = \"path_to_your_image.jpg\"\n",
    "output_path = \"output_3d_model.ply\"\n",
    "try:\n",
    "    saved_path = image_to_3d(image_path, output_path)\n",
    "    print(f\"3D Model saved successfully at {saved_path}\")\n",
    "except Exception as e:\n",
    "    print(\"Error generating 3D model:\", str(e))\n"
   ]
  },
  {
   "cell_type": "code",
   "execution_count": null,
   "metadata": {},
   "outputs": [
    {
     "name": "stderr",
     "output_type": "stream",
     "text": [
      "Loading checkpoint shards:   0%|          | 0/4 [00:00<?, ?it/s]"
     ]
    }
   ],
   "source": [
    "model = AutoModelForCausalLM.from_pretrained(\"Zhengyi/LLaMA-Mesh\")\n"
   ]
  },
  {
   "cell_type": "code",
   "execution_count": null,
   "metadata": {},
   "outputs": [],
   "source": [
    "\n",
    "prompt = \"Hey, are you conscious? Can you talk to me?\"\n",
    "inputs = tokenizer(prompt, return_tensors=\"pt\")\n",
    "\n",
    "# Generate\n",
    "generate_ids = model.generate(inputs.input_ids, max_length=30)\n",
    "tokenizer.batch_decode(generate_ids, skip_special_tokens=True, clean_up_tokenization_spaces=False)[0]\n",
    "# Assuming you have a function that can convert an image to a 3D model\n",
    "def image_to_3d(image_path):\n",
    "    # Placeholder function for converting image to 3D model\n",
    "    # You need to implement this function based on your specific requirements\n",
    "    pass\n",
    "\n",
    "# Example usage\n",
    "image_path = \"path_to_your_image.jpg\"\n",
    "three_d_model = image_to_3d(image_path)"
   ]
  }
 ],
 "metadata": {
  "kernelspec": {
   "display_name": "myenv",
   "language": "python",
   "name": "python3"
  },
  "language_info": {
   "codemirror_mode": {
    "name": "ipython",
    "version": 3
   },
   "file_extension": ".py",
   "mimetype": "text/x-python",
   "name": "python",
   "nbconvert_exporter": "python",
   "pygments_lexer": "ipython3",
   "version": "3.12.3"
  }
 },
 "nbformat": 4,
 "nbformat_minor": 2
}
