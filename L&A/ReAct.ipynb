{
 "cells": [
  {
   "cell_type": "markdown",
   "metadata": {},
   "source": [
    "# ReAct & RAG"
   ]
  },
  {
   "cell_type": "code",
   "execution_count": null,
   "metadata": {},
   "outputs": [],
   "source": [
    "%pip install langchain openai\n",
    "%pip install openai\n",
    "%pip install dalle-pytorch\n",
    "%pip install dalle-mini\n",
    "%pip install torch torchvision\n",
    "%pip install transformers\n",
    "%pip install sentence_transformers  "
   ]
  },
  {
   "cell_type": "code",
   "execution_count": null,
   "metadata": {},
   "outputs": [],
   "source": []
  },
  {
   "cell_type": "code",
   "execution_count": null,
   "metadata": {},
   "outputs": [],
   "source": [
    "from dotenv import load_dotenv\n",
    "from langchain.tools import Tool\n",
    "from langchain.agents import initialize_agent, Tool, AgentType\n",
    "from langchain.chat_models import ChatOpenAI\n",
    "import openai\n",
    "import os\n",
    "\n",
    "# Load environment variables from .env file\n",
    "load_dotenv()\n",
    "api_key = os.getenv('OPEN_AI_API_KEY_CAR')\n",
    "print(api_key)\n",
    "\n",
    "openai.api_key = api_key"
   ]
  },
  {
   "cell_type": "code",
   "execution_count": 8,
   "metadata": {},
   "outputs": [
    {
     "name": "stdout",
     "output_type": "stream",
     "text": [
      "\n",
      "\n",
      "\u001b[1m> Entering new AgentExecutor chain...\u001b[0m\n",
      "\u001b[32;1m\u001b[1;3mI need to use the Weather tool to find out the current weather.\n",
      "Action: Weather\n",
      "Action Input: current location\u001b[0m\n",
      "Observation: \u001b[36;1m\u001b[1;3mThe weather is sunny.\u001b[0m\n",
      "Thought:\u001b[32;1m\u001b[1;3mI now know the final answer.\n",
      "Final Answer: The weather is sunny.\u001b[0m\n",
      "\n",
      "\u001b[1m> Finished chain.\u001b[0m\n",
      "The weather is sunny.\n"
     ]
    }
   ],
   "source": [
    "# Define tools\n",
    "def calculator(input):\n",
    "    return eval(input)\n",
    "\n",
    "def weather(input):\n",
    "    return \"The weather is sunny.\"\n",
    "\n",
    "tools = [Tool(name=\"Calculator\", func=calculator, description=\"Performs calculations.\")]\n",
    "weather_tools = [Tool(name=\"Weather\", func=weather, description=\"Returns the weather.\")]\n",
    "\n",
    "# Initialize the agent\n",
    "llm = ChatOpenAI(temperature=0, model=\"gpt-4\", openai_api_key=api_key)\n",
    "agent = initialize_agent(tools, llm, agent=AgentType.ZERO_SHOT_REACT_DESCRIPTION, verbose=True)\n",
    "weather_agent = initialize_agent(weather_tools, llm, agent=AgentType.ZERO_SHOT_REACT_DESCRIPTION, verbose=True)    \n",
    "\n",
    "# Test the agent\n",
    "result = agent.run(\"What is 2+2?\")\n",
    "result2 = weather_agent.run(\"What is the weather?\")\n",
    "\n",
    "print(result)\n",
    "print(result2)"
   ]
  },
  {
   "cell_type": "code",
   "execution_count": null,
   "metadata": {},
   "outputs": [],
   "source": [
    "from dalle_pytorch import DALLE\n",
    "import torch\n",
    "from torchvision import transforms\n",
    "from PIL import Image\n",
    "\n",
    "# Load pre-trained model (example setup)\n",
    "model = DALLE.load_model(\"path/to/your/model.pt\", map_location=\"cpu\")\n",
    "\n",
    "# Define the text prompt\n",
    "prompt = \"A sleek, red sports car with a spoiler\"\n",
    "\n",
    "# Generate the image\n",
    "images = model.generate_images(prompt, num_images=1)\n",
    "\n",
    "# Save the image\n",
    "images[0].save(\"car_image.png\")\n"
   ]
  },
  {
   "cell_type": "code",
   "execution_count": null,
   "metadata": {},
   "outputs": [],
   "source": [
    "import openai\n",
    "\n",
    "# Load the CarGAN model\n",
    "model = openai.Model(\"cargan\")\n",
    "\n",
    "# Define the text prompt\n",
    "prompt = \"A sleek, red sports car with a spoiler\"\n",
    "\n",
    "# Generate the image\n",
    "response = model.generate_image(prompt)\n",
    "\n",
    "# Save the image to a file\n",
    "image = response[\"image\"]\n",
    "with open(\"car_image.png\", \"wb\") as f:\n",
    "    f.write(image)"
   ]
  },
  {
   "cell_type": "markdown",
   "metadata": {},
   "source": [
    "# RaG\n"
   ]
  },
  {
   "cell_type": "code",
   "execution_count": null,
   "metadata": {},
   "outputs": [],
   "source": [
    "from langchain.vectorstores import FAISS\n",
    "from langchain.embeddings.openai import OpenAIEmbeddings\n",
    "from langchain.chains import RetrievalQA\n",
    "from langchain.chat_models import ChatOpenAI\n",
    "\n",
    "# Sample data\n",
    "documents = [\n",
    "    \"The Eiffel Tower is located in Paris.\",\n",
    "    \"AI is transforming industries like healthcare and finance.\",\n",
    "    \"RAG systems enhance AI by combining retrieval with generation.\"\n",
    "]\n",
    "\n",
    "# Create vector database\n",
    "embeddings = OpenAIEmbeddings()\n",
    "vectorstore = FAISS.from_texts(documents, embeddings)\n",
    "\n",
    "# Build QA pipeline\n",
    "retriever = vectorstore.as_retriever()\n",
    "llm = ChatOpenAI(temperature=0, model=\"gpt-4\")\n",
    "qa = RetrievalQA.from_chain_type(llm, retriever=retriever)\n",
    "\n",
    "# Test the system\n",
    "question = \"Where is the Eiffel Tower located?\"\n",
    "answer = qa.run(question)\n",
    "print(answer)\n"
   ]
  },
  {
   "cell_type": "markdown",
   "metadata": {},
   "source": [
    "# ReAct project"
   ]
  },
  {
   "cell_type": "markdown",
   "metadata": {},
   "source": [
    "```\n",
    "travel_planner/\n",
    "│\n",
    "├── app.py            # Main application file\n",
    "├── weather.py        # Module to handle weather-related functions\n",
    "├── currency.py       # Module to handle currency conversion\n",
    "├── templates/        # For HTML templates (if using Flask)\n",
    "│   └── index.html\n",
    "└── static/           # For CSS and JS files (if needed for Flask UI)\n",
    "```"
   ]
  },
  {
   "cell_type": "code",
   "execution_count": null,
   "metadata": {},
   "outputs": [],
   "source": []
  },
  {
   "cell_type": "markdown",
   "metadata": {},
   "source": [
    "# RAG project\n",
    "\n",
    "```\n",
    "research_assistant/\n",
    "│\n",
    "├── app.py              # Main application logic\n",
    "├── document_processor.py  # Module for document ingestion\n",
    "├── faiss_handler.py    # Module to handle FAISS operations\n",
    "├── embeddings_utils.py # Module for embedding generation\n",
    "└── data/               # Folder to store documents\n",
    "\n",
    "\n",
    "```"
   ]
  },
  {
   "cell_type": "code",
   "execution_count": null,
   "metadata": {},
   "outputs": [],
   "source": [
    "%pip install openai faiss-cpu numpy pandas\n",
    "%pip install pdfplumber  # For PDF parsing\n"
   ]
  },
  {
   "cell_type": "code",
   "execution_count": null,
   "metadata": {},
   "outputs": [],
   "source": [
    "import pdfplumber\n",
    "\n",
    "def extract_text_from_pdf(pdf_path):\n",
    "    with pdfplumber.open(pdf_path) as pdf:\n",
    "        text = \"\"\n",
    "        for page in pdf.pages:\n",
    "            text += page.extract_text()\n",
    "        return text\n",
    "\n",
    "def process_document(file_path):\n",
    "    if file_path.endswith(\".pdf\"):\n",
    "        return extract_text_from_pdf(file_path)\n",
    "    else:\n",
    "        with open(file_path, \"r\") as file:\n",
    "            return file.read()\n"
   ]
  },
  {
   "cell_type": "code",
   "execution_count": null,
   "metadata": {},
   "outputs": [],
   "source": [
    "import openai\n",
    "import numpy as np\n",
    "\n",
    "openai.api_key = \"your_openai_api_key\"\n",
    "\n",
    "def generate_embeddings(texts):\n",
    "    embeddings = []\n",
    "    for text in texts:\n",
    "        response = openai.Embedding.create(\n",
    "            input=text,\n",
    "            model=\"text-embedding-ada-002\"\n",
    "        )\n",
    "        embeddings.append(response[\"data\"][0][\"embedding\"])\n",
    "    return np.array(embeddings)\n"
   ]
  },
  {
   "cell_type": "code",
   "execution_count": null,
   "metadata": {},
   "outputs": [],
   "source": [
    "import faiss\n",
    "import numpy as np\n",
    "\n",
    "class FAISSHandler:\n",
    "    def __init__(self, embedding_dim):\n",
    "        self.index = faiss.IndexFlatL2(embedding_dim)\n",
    "\n",
    "    def add_embeddings(self, embeddings):\n",
    "        self.index.add(embeddings)\n",
    "\n",
    "    def search(self, query_embedding, top_k=5):\n",
    "        distances, indices = self.index.search(query_embedding, top_k)\n",
    "        return distances, indices\n"
   ]
  },
  {
   "cell_type": "code",
   "execution_count": null,
   "metadata": {},
   "outputs": [],
   "source": [
    "from document_processor import process_document\n",
    "from embeddings_utils import generate_embeddings\n",
    "from faiss_handler import FAISSHandler\n",
    "import numpy as np\n",
    "\n",
    "class ResearchAssistant:\n",
    "    def __init__(self, embedding_dim):\n",
    "        self.faiss_handler = FAISSHandler(embedding_dim)\n",
    "        self.texts = []\n",
    "\n",
    "    def add_document(self, file_path):\n",
    "        text = process_document(file_path)\n",
    "        self.texts.append(text)\n",
    "        return text\n",
    "\n",
    "    def build_index(self):\n",
    "        embeddings = generate_embeddings(self.texts)\n",
    "        self.faiss_handler.add_embeddings(embeddings)\n",
    "\n",
    "    def answer_query(self, query, top_k=5):\n",
    "        query_embedding = generate_embeddings([query])\n",
    "        distances, indices = self.faiss_handler.search(np.array(query_embedding), top_k)\n",
    "        results = [self.texts[idx] for idx in indices[0]]\n",
    "        return results\n",
    "\n",
    "if __name__ == \"__main__\":\n",
    "    assistant = ResearchAssistant(embedding_dim=1536)  # Dimension for text-embedding-ada-002\n",
    "\n",
    "    # Add documents\n",
    "    assistant.add_document(\"data/sample1.pdf\")\n",
    "    assistant.add_document(\"data/sample2.txt\")\n",
    "\n",
    "    # Build the index\n",
    "    assistant.build_index()\n",
    "\n",
    "    # Query the assistant\n",
    "    query = \"What are the main points in the document?\"\n",
    "    results = assistant.answer_query(query)\n",
    "    \n",
    "    print(\"Results:\")\n",
    "    for res in results:\n",
    "        print(res)\n",
    "\n"
   ]
  },
  {
   "cell_type": "code",
   "execution_count": null,
   "metadata": {},
   "outputs": [],
   "source": []
  }
 ],
 "metadata": {
  "kernelspec": {
   "display_name": "myenv",
   "language": "python",
   "name": "python3"
  },
  "language_info": {
   "codemirror_mode": {
    "name": "ipython",
    "version": 3
   },
   "file_extension": ".py",
   "mimetype": "text/x-python",
   "name": "python",
   "nbconvert_exporter": "python",
   "pygments_lexer": "ipython3",
   "version": "3.12.3"
  }
 },
 "nbformat": 4,
 "nbformat_minor": 2
}
