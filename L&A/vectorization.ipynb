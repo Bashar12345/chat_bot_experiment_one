{
 "cells": [
  {
   "cell_type": "code",
   "execution_count": null,
   "metadata": {},
   "outputs": [],
   "source": [
    "%pip install transformers sentence-transformers numpy scikit-learn\n"
   ]
  },
  {
   "cell_type": "markdown",
   "metadata": {},
   "source": [
    "# What Are Embeddings?\n",
    "Definition: Embeddings are vector representations of text that capture semantic meaning.\n",
    "\n",
    "Why Use Them?:\n",
    "\n",
    "To find similarity between texts.\n",
    "\n",
    "To enable tasks like search, clustering, and classification."
   ]
  },
  {
   "cell_type": "code",
   "execution_count": null,
   "metadata": {},
   "outputs": [],
   "source": [
    "from sentence_transformers import SentenceTransformer\n",
    "\n",
    "# Load pre-trained model\n",
    "model = SentenceTransformer('all-MiniLM-L6-v2')\n",
    "\n",
    "# Example sentences\n",
    "sentences = [\n",
    "    \"Artificial Intelligence is transforming industries.\",\n",
    "    \"Machine learning is a subset of AI.\"\n",
    "]\n",
    "\n",
    "# Generate embeddings\n",
    "embeddings = model.encode(sentences)\n",
    "\n",
    "print(\"Embeddings:\")\n",
    "print(embeddings)\n",
    "print(\"Shape of each embedding:\", embeddings[0].shape)\n"
   ]
  },
  {
   "cell_type": "code",
   "execution_count": null,
   "metadata": {},
   "outputs": [],
   "source": [
    "import chromadb\n",
    "from chromadb.config import Settings\n",
    "\n",
    "# Initialize ChromaDB client\n",
    "client = chromadb.Client(Settings(\n",
    "    chroma_db_impl=\"duckdb+parquet\",  # Local storage\n",
    "    persist_directory=\"db/chromadb_data\"  # Directory to store data\n",
    "))\n",
    "\n",
    "# Create or get a collection\n",
    "collection = client.get_or_create_collection(name=\"documents\")\n",
    "\n",
    "# Add embeddings to the collection\n",
    "embeddings = [\n",
    "    [0.1, 0.2, 0.3],\n",
    "    [0.4, 0.5, 0.6],\n",
    "    [0.7, 0.8, 0.9]\n",
    "]\n",
    "metadata = [{\"id\": \"doc1\"}, {\"id\": \"doc2\"}, {\"id\": \"doc3\"}]\n",
    "documents = [\"Document 1 text\", \"Document 2 text\", \"Document 3 text\"]\n",
    "\n",
    "collection.add(\n",
    "    embeddings=embeddings,\n",
    "    metadatas=metadata,\n",
    "    documents=documents\n",
    ")\n"
   ]
  },
  {
   "cell_type": "code",
   "execution_count": null,
   "metadata": {},
   "outputs": [],
   "source": [
    "import pinecone\n",
    "\n",
    "# Initialize Pinecone\n",
    "pinecone.init(api_key=\"YOUR_API_KEY\", environment=\"us-west1-gcp\")\n",
    "\n",
    "# Create a Pinecone index\n",
    "index_name = \"example-index\"\n",
    "if index_name not in pinecone.list_indexes():\n",
    "    pinecone.create_index(index_name, dimension=3, metric=\"cosine\")\n",
    "\n",
    "index = pinecone.Index(index_name)\n",
    "\n",
    "# Add embeddings to the index\n",
    "embeddings = [\n",
    "    {\"id\": \"1\", \"values\": [0.1, 0.2, 0.3]},\n",
    "    {\"id\": \"2\", \"values\": [0.4, 0.5, 0.6]},\n",
    "    {\"id\": \"3\", \"values\": [0.7, 0.8, 0.9]}\n",
    "]\n",
    "index.upsert(vectors=embeddings)\n",
    "\n",
    "\n",
    "# Query for similar vectors\n",
    "query_vector = [0.15, 0.25, 0.35]\n",
    "results = index.query(vector=query_vector, top_k=2, include_metadata=True)\n",
    "print(results)\n",
    "\n"
   ]
  },
  {
   "cell_type": "code",
   "execution_count": null,
   "metadata": {},
   "outputs": [],
   "source": []
  },
  {
   "cell_type": "code",
   "execution_count": null,
   "metadata": {},
   "outputs": [],
   "source": []
  }
 ],
 "metadata": {
  "kernelspec": {
   "display_name": "myenv",
   "language": "python",
   "name": "python3"
  },
  "language_info": {
   "codemirror_mode": {
    "name": "ipython",
    "version": 3
   },
   "file_extension": ".py",
   "mimetype": "text/x-python",
   "name": "python",
   "nbconvert_exporter": "python",
   "pygments_lexer": "ipython3",
   "version": "3.12.3"
  }
 },
 "nbformat": 4,
 "nbformat_minor": 2
}
